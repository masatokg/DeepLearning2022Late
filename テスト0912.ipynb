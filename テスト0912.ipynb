{
  "nbformat": 4,
  "nbformat_minor": 0,
  "metadata": {
    "colab": {
      "provenance": [],
      "collapsed_sections": [],
      "authorship_tag": "ABX9TyNINxWLN/hcx/jE21tM2KtY",
      "include_colab_link": true
    },
    "kernelspec": {
      "name": "python3",
      "display_name": "Python 3"
    },
    "language_info": {
      "name": "python"
    }
  },
  "cells": [
    {
      "cell_type": "markdown",
      "metadata": {
        "id": "view-in-github",
        "colab_type": "text"
      },
      "source": [
        "<a href=\"https://colab.research.google.com/github/masatokg/DeepLearning2022Late/blob/main/%E3%83%86%E3%82%B9%E3%83%880912.ipynb\" target=\"_parent\"><img src=\"https://colab.research.google.com/assets/colab-badge.svg\" alt=\"Open In Colab\"/></a>"
      ]
    },
    {
      "cell_type": "code",
      "source": [
        "print(\"Hello World\")"
      ],
      "metadata": {
        "colab": {
          "base_uri": "https://localhost:8080/"
        },
        "id": "HO7w4-qPoyv5",
        "outputId": "aa914c8d-e59e-455a-ad47-231ecf7ad466"
      },
      "execution_count": null,
      "outputs": [
        {
          "output_type": "stream",
          "name": "stdout",
          "text": [
            "Hello World\n"
          ]
        }
      ]
    },
    {
      "cell_type": "code",
      "source": [
        "x = 1.23456\n",
        "print(x)\n",
        "print(type(x))"
      ],
      "metadata": {
        "colab": {
          "base_uri": "https://localhost:8080/"
        },
        "id": "zn-KsX3bpUxt",
        "outputId": "e22d9d79-f8b4-4858-a41f-1df31ba113ed"
      },
      "execution_count": null,
      "outputs": [
        {
          "output_type": "stream",
          "name": "stdout",
          "text": [
            "1.23456\n",
            "<class 'float'>\n"
          ]
        }
      ]
    },
    {
      "cell_type": "code",
      "source": [
        "# 整数型、文字列型も表示する\n",
        "seisuu = 100\n",
        "print( type(seisuu) )\n",
        "hello = \"Hello Python\"\n",
        "print( type(hello) )\n"
      ],
      "metadata": {
        "colab": {
          "base_uri": "https://localhost:8080/"
        },
        "id": "W-6n14jyp0UG",
        "outputId": "3e575b0b-4d59-4f6c-b9b2-5ac8296c8883"
      },
      "execution_count": null,
      "outputs": [
        {
          "output_type": "stream",
          "name": "stdout",
          "text": [
            "<class 'int'>\n",
            "<class 'str'>\n"
          ]
        }
      ]
    },
    {
      "cell_type": "code",
      "source": [
        "# 型を変換する\n",
        "print( type(seisuu) ) #整数型\n",
        "# 文字列型に変換\n",
        "strSeisuu = str( seisuu )\n",
        "print( type( strSeisuu ) )\n"
      ],
      "metadata": {
        "colab": {
          "base_uri": "https://localhost:8080/"
        },
        "id": "leso4QwOq-aQ",
        "outputId": "285d9eb7-6305-4774-bdaa-28fde7989906"
      },
      "execution_count": null,
      "outputs": [
        {
          "output_type": "stream",
          "name": "stdout",
          "text": [
            "<class 'int'>\n",
            "<class 'str'>\n"
          ]
        }
      ]
    },
    {
      "cell_type": "code",
      "source": [
        "### 定数\n",
        "#Python3ではｍNone,True/Falseは置き換え不可のキーワード\n",
        "print( type(None) )\n",
        "# true/falseはboolean\n",
        "print(type(True))"
      ],
      "metadata": {
        "colab": {
          "base_uri": "https://localhost:8080/"
        },
        "id": "DMtbo2frrtIg",
        "outputId": "4aae96b8-212f-4054-932c-e2d65a394040"
      },
      "execution_count": null,
      "outputs": [
        {
          "output_type": "stream",
          "name": "stdout",
          "text": [
            "<class 'NoneType'>\n",
            "<class 'bool'>\n"
          ]
        }
      ]
    },
    {
      "cell_type": "markdown",
      "source": [
        "## 演算の練習"
      ],
      "metadata": {
        "id": "qekEEqyksUjd"
      }
    },
    {
      "cell_type": "code",
      "source": [
        "# 足し算引き算掛け算はJavaといっしょ\n",
        "# 割り算に注意\n",
        "print( 6/4 ) # Javaと違って整数同士の割り算も小数になる\n",
        "print( 6//4 ) # Javaのように整数同士の割り算の整数部を返す\n",
        "# あまり残もJavaと一緒"
      ],
      "metadata": {
        "colab": {
          "base_uri": "https://localhost:8080/"
        },
        "id": "JOsFVwAkrGTR",
        "outputId": "27640ea5-f1df-4bd5-c646-430ef5d4cd28"
      },
      "execution_count": null,
      "outputs": [
        {
          "output_type": "stream",
          "name": "stdout",
          "text": [
            "1.5\n",
            "1\n"
          ]
        }
      ]
    },
    {
      "cell_type": "code",
      "source": [
        "# 絶対値を出す関数\n",
        "print( abs( -3.14 ) )\n",
        "# n乗敬さん\n",
        "print( pow( 3,4 ) ) # 3の4乗\n",
        "print( 3**4 ) # 3の4乗"
      ],
      "metadata": {
        "colab": {
          "base_uri": "https://localhost:8080/"
        },
        "id": "JO2VkU6btfNn",
        "outputId": "45f02023-efe7-497d-b4c5-625b14a76761"
      },
      "execution_count": null,
      "outputs": [
        {
          "output_type": "stream",
          "name": "stdout",
          "text": [
            "3.14\n",
            "81\n",
            "81\n"
          ]
        }
      ]
    }
  ]
}