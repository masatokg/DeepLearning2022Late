{
  "nbformat": 4,
  "nbformat_minor": 0,
  "metadata": {
    "colab": {
      "provenance": [],
      "authorship_tag": "ABX9TyMtckNkwqJFHZY8tD9Q/4rb",
      "include_colab_link": true
    },
    "kernelspec": {
      "name": "python3",
      "display_name": "Python 3"
    },
    "language_info": {
      "name": "python"
    }
  },
  "cells": [
    {
      "cell_type": "markdown",
      "metadata": {
        "id": "view-in-github",
        "colab_type": "text"
      },
      "source": [
        "<a href=\"https://colab.research.google.com/github/masatokg/DeepLearning2022Late/blob/main/%E3%83%86%E3%82%B9%E3%83%880913_02ipynb.ipynb\" target=\"_parent\"><img src=\"https://colab.research.google.com/assets/colab-badge.svg\" alt=\"Open In Colab\"/></a>"
      ]
    },
    {
      "cell_type": "markdown",
      "source": [
        "# 辞書型( dictionary \n",
        "キーと値のペアで管理する)\n",
        "\n"
      ],
      "metadata": {
        "id": "-L4xMV5zy9QY"
      }
    },
    {
      "cell_type": "markdown",
      "source": [
        "# 新しいセクション"
      ],
      "metadata": {
        "id": "ijPfAfjAW6ZK"
      }
    },
    {
      "cell_type": "markdown",
      "source": [
        "## 辞書型の定義文"
      ],
      "metadata": {
        "id": "g4Ko4DXKzXSD"
      }
    },
    {
      "cell_type": "code",
      "source": [
        "# 辞書型のデータを作って変数dictに代入\n",
        "# { キーワード : 値, 'キーワード':値 }　でデータを管理\n",
        "dict = { 'アップル':1, 'ペン':2, 'パイナップル':3 }\n",
        "print(dict)\n",
        "# 値を利用するときは、キーワードで指定\n",
        "print( dict['ペン'] )"
      ],
      "metadata": {
        "colab": {
          "base_uri": "https://localhost:8080/"
        },
        "id": "CH5La_svzOPz",
        "outputId": "e74585d7-4362-455a-8915-2c3375e51622"
      },
      "execution_count": 1,
      "outputs": [
        {
          "output_type": "stream",
          "name": "stdout",
          "text": [
            "{'アップル': 1, 'ペン': 2, 'パイナップル': 3}\n",
            "2\n"
          ]
        }
      ]
    },
    {
      "cell_type": "markdown",
      "source": [
        "## 辞書型のキーワード一覧、値一覧を取得する"
      ],
      "metadata": {
        "id": "WflsKAhl1e5b"
      }
    },
    {
      "cell_type": "code",
      "source": [
        "print(dict)\n",
        "# dictに入っているキーの一覧\n",
        "print( dict.keys() )\n",
        "# dictに入っている値の一覧\n",
        "print( dict.values() )"
      ],
      "metadata": {
        "colab": {
          "base_uri": "https://localhost:8080/"
        },
        "id": "SqL5P_i61med",
        "outputId": "ee98e5b8-36fa-4ecf-c667-3f85f6dc1840"
      },
      "execution_count": 2,
      "outputs": [
        {
          "output_type": "stream",
          "name": "stdout",
          "text": [
            "{'アップル': 1, 'ペン': 2, 'パイナップル': 3}\n",
            "dict_keys(['アップル', 'ペン', 'パイナップル'])\n",
            "dict_values([1, 2, 3])\n"
          ]
        }
      ]
    },
    {
      "cell_type": "markdown",
      "source": [
        "## 辞書型の追加・削除・更新"
      ],
      "metadata": {
        "id": "y3L5lMFL1BFf"
      }
    },
    {
      "cell_type": "code",
      "source": [
        "print(dict)\n",
        "# dictにバナナというキーワードで値5を追加\n",
        "# print( dict.keys() )\n",
        "dict['バナナ'] = 5\n",
        "print(dict)\n",
        "# キーワードがすでにあったら、そのキーワードの値を更新\n",
        "dict['バナナ'] = 100\n",
        "print(dict)\n",
        "# キーワードで指定したペアを削除\n",
        "dict.pop('バナナ')\n",
        "print(dict)"
      ],
      "metadata": {
        "colab": {
          "base_uri": "https://localhost:8080/"
        },
        "id": "OBa2kR47zk4e",
        "outputId": "e8dde15c-c0f0-4199-92a0-9b20ae11368b"
      },
      "execution_count": 3,
      "outputs": [
        {
          "output_type": "stream",
          "name": "stdout",
          "text": [
            "{'アップル': 1, 'ペン': 2, 'パイナップル': 3}\n",
            "{'アップル': 1, 'ペン': 2, 'パイナップル': 3, 'バナナ': 5}\n",
            "{'アップル': 1, 'ペン': 2, 'パイナップル': 3, 'バナナ': 100}\n",
            "{'アップル': 1, 'ペン': 2, 'パイナップル': 3}\n"
          ]
        }
      ]
    },
    {
      "cell_type": "markdown",
      "source": [
        "# 文字列の整形\n",
        "## 文字列の連結と繰り返し"
      ],
      "metadata": {
        "id": "jR3-kpDl4bHf"
      }
    },
    {
      "cell_type": "code",
      "source": [
        "# 文字列の連結方法①\n",
        "apple = 'アップル'\n",
        "pen = 'ペン'\n",
        "print( apple + pen ) # プラス記号で連結\n",
        "# 文字列の連結方法② 文字配列を連結する\n",
        "piko = ['ペン', 'パイナップル', 'アップル','ペン']\n",
        "# printメソッドで連結して表示 例： , で連結\n",
        "print(  ',' .join(piko) )\n",
        "# 回数を指定してメッセージを表示\n",
        "pon = 'ポン'\n",
        "print( pon *3 )"
      ],
      "metadata": {
        "colab": {
          "base_uri": "https://localhost:8080/"
        },
        "id": "OpWUxKFn1MlD",
        "outputId": "c2649c4d-059d-40ba-8ee7-4f65713cb74d"
      },
      "execution_count": 4,
      "outputs": [
        {
          "output_type": "stream",
          "name": "stdout",
          "text": [
            "アップルペン\n",
            "ペン,パイナップル,アップル,ペン\n",
            "ポンポンポン\n"
          ]
        }
      ]
    },
    {
      "cell_type": "markdown",
      "source": [
        "## 【重要】文字列の整形（フォーマット）"
      ],
      "metadata": {
        "id": "-vgl_mfc66Tz"
      }
    },
    {
      "cell_type": "code",
      "source": [
        "# 定式で指定した形のメッセージにする\n",
        "print( '{}{}:{}円' )\n",
        "# スロットを定義した順番に、その数だけデータを引き渡して文章を組み立てる\n",
        "print( '{}{}:{}円'.format('アップル', 'ペン', 100) )\n",
        "# スロットを値のインデックスで指定することもできる\n",
        "print( '{1}{2}:{0}円'.format( 100, 'アップル', 'ペン' ) )"
      ],
      "metadata": {
        "colab": {
          "base_uri": "https://localhost:8080/"
        },
        "id": "b1wi2ub05Lns",
        "outputId": "3f87aa71-013b-4c2a-db2e-9bc0fc8873b1"
      },
      "execution_count": 5,
      "outputs": [
        {
          "output_type": "stream",
          "name": "stdout",
          "text": [
            "{}{}:{}円\n",
            "アップルペン:100円\n",
            "アップルペン:100円\n"
          ]
        }
      ]
    },
    {
      "cell_type": "markdown",
      "source": [
        "# コレクション演算\n",
        "リスト、タプル、つまり順番がある集合のことをシーケンスという。\n",
        "順番がない集合を集合型（セット）という\n",
        "上記2種類をまとめてコレクションという。\n",
        "コレクションは共通の演算が使える\n",
        "len（長さ、量を取得）、max(最大値を取得)、min（最小値を取得）など"
      ],
      "metadata": {
        "id": "pO_VM9C5WyNY"
      }
    },
    {
      "cell_type": "code",
      "source": [
        "list = [ 1, 1, 2, 3, 4, 5 ] #6つの要素\n",
        "tuple = ( 10, 9, 7, 7, 8, 8, 9 ) #7つの要素\n",
        "set = { 1, -2, 3, -4, 5, -6, 7, -8 } # 8つの要素\n",
        "# リストの長さ、最大値、最小値\n",
        "print( len( list ), max( list ), min( list ) )\n",
        "# タプルの長さ、最大値、最小値\n",
        "print( len( tuple ), max( tuple ), min( tuple ) )\n",
        "# setの長さ（量）、最大値、最小値\n",
        "print(  len( set ), max( set ), min( set )  )"
      ],
      "metadata": {
        "id": "4mnkOL2X7i1j",
        "colab": {
          "base_uri": "https://localhost:8080/"
        },
        "outputId": "c99e000f-358a-41f9-ea4b-84664b01f7b1"
      },
      "execution_count": 9,
      "outputs": [
        {
          "output_type": "stream",
          "name": "stdout",
          "text": [
            "6 5 1\n",
            "7 10 7\n",
            "8 7 -8\n"
          ]
        }
      ]
    },
    {
      "cell_type": "code",
      "source": [],
      "metadata": {
        "id": "ldd27EbfYv9Y"
      },
      "execution_count": null,
      "outputs": []
    }
  ]
}