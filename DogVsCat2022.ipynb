{
  "nbformat": 4,
  "nbformat_minor": 0,
  "metadata": {
    "colab": {
      "provenance": [],
      "collapsed_sections": [],
      "authorship_tag": "ABX9TyNYveKuHWRudbGGPa8DpZc1",
      "include_colab_link": true
    },
    "kernelspec": {
      "name": "python3",
      "display_name": "Python 3"
    },
    "language_info": {
      "name": "python"
    }
  },
  "cells": [
    {
      "cell_type": "markdown",
      "metadata": {
        "id": "view-in-github",
        "colab_type": "text"
      },
      "source": [
        "<a href=\"https://colab.research.google.com/github/masatokg/DeepLearning2022Late/blob/main/DogVsCat2022.ipynb\" target=\"_parent\"><img src=\"https://colab.research.google.com/assets/colab-badge.svg\" alt=\"Open In Colab\"/></a>"
      ]
    },
    {
      "cell_type": "markdown",
      "source": [
        "# Keras を使用したディープラーニングをやってみる\n",
        "## 画像認識を行う"
      ],
      "metadata": {
        "id": "FrH4VRjt49uF"
      }
    },
    {
      "cell_type": "markdown",
      "source": [
        "### ライブラリの読み込み"
      ],
      "metadata": {
        "id": "l7qSiYo65eLe"
      }
    },
    {
      "cell_type": "code",
      "execution_count": 1,
      "metadata": {
        "id": "SHMiYJfW3OFS"
      },
      "outputs": [],
      "source": [
        "%matplotlib inline\n",
        "from keras.applications.vgg16 import VGG16, preprocess_input, decode_predictions\n",
        "from keras.preprocessing import image\n",
        "from PIL import Image\n",
        "import matplotlib.pyplot as plt\n",
        "import numpy as np\n"
      ]
    },
    {
      "cell_type": "markdown",
      "source": [
        "### 学習済みモデルの読み込み"
      ],
      "metadata": {
        "id": "doyNJ5-y7xZu"
      }
    },
    {
      "cell_type": "code",
      "source": [
        "model = VGG16( weights='imagenet' )"
      ],
      "metadata": {
        "id": "JtA6KVra6AA2",
        "colab": {
          "base_uri": "https://localhost:8080/"
        },
        "outputId": "9608950a-6f52-41ef-b44b-d852c75e2cc3"
      },
      "execution_count": 2,
      "outputs": [
        {
          "output_type": "stream",
          "name": "stdout",
          "text": [
            "Downloading data from https://storage.googleapis.com/tensorflow/keras-applications/vgg16/vgg16_weights_tf_dim_ordering_tf_kernels.h5\n",
            "553467904/553467096 [==============================] - 3s 0us/step\n",
            "553476096/553467096 [==============================] - 3s 0us/step\n"
          ]
        }
      ]
    },
    {
      "cell_type": "markdown",
      "source": [
        "### 画像判定のための関数\n"
      ],
      "metadata": {
        "id": "r88YvLe58ks1"
      }
    },
    {
      "cell_type": "code",
      "source": [
        "def predict( filename, featuresize ):\n",
        "  img = image.load_img( filename, target_size=(224, 224) )\n",
        "  x = image.img_to_array(img)\n",
        "  x = np.expand_dims( x, axis=0 )\n",
        "  # 学習モデルで判定を実行\n",
        "  preds = model.predict( preprocess_input(x) )\n",
        "  results = decode_predictions( preds, top=featuresize )[0]\n",
        "  return results\n",
        "# 関数終わり"
      ],
      "metadata": {
        "id": "7JQmNQQK8YYW"
      },
      "execution_count": 3,
      "outputs": []
    },
    {
      "cell_type": "markdown",
      "source": [
        "### 画像表示のための関数"
      ],
      "metadata": {
        "id": "XH7XAj1__f7s"
      }
    },
    {
      "cell_type": "code",
      "source": [
        "def showimg(  filename, title, i  ):\n",
        "  im = Image.open(filename) # 画像ファイルを開く\n",
        "  im_list = np.array(im) # 画像ビットデータをndarrayにする\n",
        "  plt.subplot( 2, 5, i )\n",
        "  plt.title( title )\n",
        "  plt.axis( \"off\" )\n",
        "  plt.imshow( im_list )\n",
        "# 関数終わり"
      ],
      "metadata": {
        "id": "gxpBTDmC_Bzf"
      },
      "execution_count": 4,
      "outputs": []
    },
    {
      "cell_type": "markdown",
      "source": [
        "### Kaggeにある画像データを利用する\n",
        "https://www.kaggle.com/\n",
        "<br>犬猫判定用の画像データ<br>\n",
        "https://www.kaggle.com/c/dogs-vs-cats/data"
      ],
      "metadata": {
        "id": "NnIFJDyjBeHS"
      }
    },
    {
      "cell_type": "markdown",
      "source": [
        "## 指定されたURLからファイルをダウンロードする"
      ],
      "metadata": {
        "id": "KXSHYsGLufOV"
      }
    },
    {
      "cell_type": "code",
      "source": [
        "# wgetでwebからファイルをダウンロードする\n",
        "# GoogleColabでコマンドを実行するときは、先頭に!マークを必ずつけること\n",
        "# 小さいファイルをGoogleドライブからDLする時は、以下のようにURLをつけるだけでOK\n",
        "# !wget 'https://drive.google.com/uc?export=download&id=1WQ9KZ-St4BqUWkqYJZYBIXQ8tT92DW_2'\n",
        "!wget --load-cookies /tmp/cookies.txt \"https://drive.google.com/uc?export=download&confirm=$(wget --quiet --save-cookies /tmp/cookies.txt --keep-session-cookies --no-check-certificate 'https://drive.google.com/uc?export=download&id=1WQ9KZ-St4BqUWkqYJZYBIXQ8tT92DW_2' -O- | sed -rn 's/.*confirm=([0-9A-Za-z_]+).*/\\1\\n/p')&id=1WQ9KZ-St4BqUWkqYJZYBIXQ8tT92DW_2\" -O train.zip && rm -rf /tmp/cookies.txt\n",
        "!wget --load-cookies /tmp/cookies.txt \"https://drive.google.com/uc?export=download&confirm=$(wget --quiet --save-cookies /tmp/cookies.txt --keep-session-cookies --no-check-certificate 'https://drive.google.com/uc?export=download&id=1WQ9KZ-St4BqUWkqYJZYBIXQ8tT92DW_2' -O- | sed -rn 's/.*confirm=([0-9A-Za-z_]+).*/\\1\\n/p')&id=1WQ9KZ-St4BqUWkqYJZYBIXQ8tT92DW_2\" -O test.zip && rm -rf /tmp/cookies.txt\n",
        "\n"
      ],
      "metadata": {
        "colab": {
          "base_uri": "https://localhost:8080/"
        },
        "id": "jhe0C8CyusEc",
        "outputId": "6f720ccb-184b-40b5-89aa-380923fde4a4"
      },
      "execution_count": 5,
      "outputs": [
        {
          "output_type": "stream",
          "name": "stdout",
          "text": [
            "--2022-10-04 00:41:39--  https://drive.google.com/uc?export=download&confirm=t&id=1WQ9KZ-St4BqUWkqYJZYBIXQ8tT92DW_2\n",
            "Resolving drive.google.com (drive.google.com)... 142.251.2.101, 142.251.2.138, 142.251.2.139, ...\n",
            "Connecting to drive.google.com (drive.google.com)|142.251.2.101|:443... connected.\n",
            "HTTP request sent, awaiting response... 303 See Other\n",
            "Location: https://doc-0k-1s-docs.googleusercontent.com/docs/securesc/ha0ro937gcuc7l7deffksulhg5h7mbp1/ptob0e98fpti1v4nr3qouh7s6b68ktr6/1664844075000/14334177730080324288/*/1WQ9KZ-St4BqUWkqYJZYBIXQ8tT92DW_2?e=download&uuid=127a6472-9725-4016-ad4c-b98238809bfc [following]\n",
            "Warning: wildcards not supported in HTTP.\n",
            "--2022-10-04 00:41:39--  https://doc-0k-1s-docs.googleusercontent.com/docs/securesc/ha0ro937gcuc7l7deffksulhg5h7mbp1/ptob0e98fpti1v4nr3qouh7s6b68ktr6/1664844075000/14334177730080324288/*/1WQ9KZ-St4BqUWkqYJZYBIXQ8tT92DW_2?e=download&uuid=127a6472-9725-4016-ad4c-b98238809bfc\n",
            "Resolving doc-0k-1s-docs.googleusercontent.com (doc-0k-1s-docs.googleusercontent.com)... 142.250.141.132, 2607:f8b0:4023:c0b::84\n",
            "Connecting to doc-0k-1s-docs.googleusercontent.com (doc-0k-1s-docs.googleusercontent.com)|142.250.141.132|:443... connected.\n",
            "HTTP request sent, awaiting response... 200 OK\n",
            "Length: 569872234 (543M) [application/x-zip-compressed]\n",
            "Saving to: ‘train.zip’\n",
            "\n",
            "train.zip           100%[===================>] 543.47M  97.5MB/s    in 6.0s    \n",
            "\n",
            "2022-10-04 00:41:46 (91.2 MB/s) - ‘train.zip’ saved [569872234/569872234]\n",
            "\n",
            "--2022-10-04 00:41:46--  https://drive.google.com/uc?export=download&confirm=t&id=1WQ9KZ-St4BqUWkqYJZYBIXQ8tT92DW_2\n",
            "Resolving drive.google.com (drive.google.com)... 142.251.2.101, 142.251.2.138, 142.251.2.139, ...\n",
            "Connecting to drive.google.com (drive.google.com)|142.251.2.101|:443... connected.\n",
            "HTTP request sent, awaiting response... 303 See Other\n",
            "Location: https://doc-0k-1s-docs.googleusercontent.com/docs/securesc/ha0ro937gcuc7l7deffksulhg5h7mbp1/ptob0e98fpti1v4nr3qouh7s6b68ktr6/1664844075000/14334177730080324288/*/1WQ9KZ-St4BqUWkqYJZYBIXQ8tT92DW_2?e=download&uuid=02aa5045-0ae3-4640-8a4b-9cf831287fbf [following]\n",
            "Warning: wildcards not supported in HTTP.\n",
            "--2022-10-04 00:41:47--  https://doc-0k-1s-docs.googleusercontent.com/docs/securesc/ha0ro937gcuc7l7deffksulhg5h7mbp1/ptob0e98fpti1v4nr3qouh7s6b68ktr6/1664844075000/14334177730080324288/*/1WQ9KZ-St4BqUWkqYJZYBIXQ8tT92DW_2?e=download&uuid=02aa5045-0ae3-4640-8a4b-9cf831287fbf\n",
            "Resolving doc-0k-1s-docs.googleusercontent.com (doc-0k-1s-docs.googleusercontent.com)... 142.250.141.132, 2607:f8b0:4023:c0b::84\n",
            "Connecting to doc-0k-1s-docs.googleusercontent.com (doc-0k-1s-docs.googleusercontent.com)|142.250.141.132|:443... connected.\n",
            "HTTP request sent, awaiting response... 200 OK\n",
            "Length: 569872234 (543M) [application/x-zip-compressed]\n",
            "Saving to: ‘test.zip’\n",
            "\n",
            "test.zip            100%[===================>] 543.47M   153MB/s    in 3.7s    \n",
            "\n",
            "2022-10-04 00:41:51 (148 MB/s) - ‘test.zip’ saved [569872234/569872234]\n",
            "\n"
          ]
        }
      ]
    },
    {
      "cell_type": "markdown",
      "source": [
        "##Colbに自分のGoogleアカウントのドライブをマウントする"
      ],
      "metadata": {
        "id": "zzuLJEN2yqWS"
      }
    },
    {
      "cell_type": "code",
      "source": [
        "# googleドライブを操作するモジュールをimport\n",
        "from google.colab import drive\n",
        "# googleドライブをマウント\n",
        "drive.mount('/content/drive')\n"
      ],
      "metadata": {
        "colab": {
          "base_uri": "https://localhost:8080/"
        },
        "id": "KtvadDDWu6Lf",
        "outputId": "c21503dd-e91d-4f54-9c76-c5deeb106851"
      },
      "execution_count": 6,
      "outputs": [
        {
          "output_type": "stream",
          "name": "stdout",
          "text": [
            "Mounted at /content/drive\n"
          ]
        }
      ]
    },
    {
      "cell_type": "markdown",
      "source": [
        "## DLしてきたファイルをマウントしたディレクトリにコピーする"
      ],
      "metadata": {
        "id": "ad8HSKzc1DYB"
      }
    },
    {
      "cell_type": "code",
      "source": [
        "# コピーファイルを置くディレクトリを作る\n",
        "import os\n",
        "dir_path = \"/content/drive/My Drive/2022LATE\"\n",
        "# すでにディレクトリがあってもエラーにしない\n",
        "os.makedirs( dir_path, exist_ok=True)\n",
        "!pwd #今いるディレクトリを表示\n",
        "# ファイルをコピー\n",
        "!cp train.zip \"/content/drive/My Drive/2022LATE\"\n",
        "# tedt.zipはいったん使わないのでコピーしない\n"
      ],
      "metadata": {
        "colab": {
          "base_uri": "https://localhost:8080/"
        },
        "id": "sIr_7hvSzevt",
        "outputId": "b90fa7e2-d8b2-4487-e553-0457b944ca2a"
      },
      "execution_count": 7,
      "outputs": [
        {
          "output_type": "stream",
          "name": "stdout",
          "text": [
            "/content\n"
          ]
        }
      ]
    },
    {
      "cell_type": "markdown",
      "source": [
        "# GoogleドライブからColabへファイルをコピー"
      ],
      "metadata": {
        "id": "ZTPLJPRR35rH"
      }
    },
    {
      "cell_type": "code",
      "source": [
        "!cp \"/content/drive/My Drive/2022LATE/train.zip\" ."
      ],
      "metadata": {
        "id": "gi4plUqI2exO"
      },
      "execution_count": 8,
      "outputs": []
    },
    {
      "cell_type": "markdown",
      "source": [
        "## zipファイルを解凍する"
      ],
      "metadata": {
        "id": "02MWcG1k4h_o"
      }
    },
    {
      "cell_type": "code",
      "source": [
        "# unzipコマンドで解凍\n",
        "!unzip -o -q \"train.zip\"\n",
        "print(\"zip解凍完了\")"
      ],
      "metadata": {
        "colab": {
          "base_uri": "https://localhost:8080/"
        },
        "id": "lUMwDxfC4QCU",
        "outputId": "c43079e2-07d0-4512-e1ba-1af278bf2e4b"
      },
      "execution_count": 9,
      "outputs": [
        {
          "output_type": "stream",
          "name": "stdout",
          "text": [
            "zip解凍完了\n"
          ]
        }
      ]
    },
    {
      "cell_type": "markdown",
      "source": [
        "## 解凍した画像を使って画像判定させる"
      ],
      "metadata": {
        "id": "n07vDmXd5w8t"
      }
    },
    {
      "cell_type": "code",
      "source": [
        "# 画像を指定する変数\n",
        "# filename = \"train/cat.101.jpg\"\n",
        "filename = \"Jessy.jpg\"\n",
        "\n",
        "plt.figure( figsize=(20, 10) )\n",
        "for i in range(1):\n",
        "  showimg(filename, \"What's this??\", i+1 )\n",
        "# ループ終わり\n",
        "plt.show()\n",
        "\n",
        "# 表示した画像を判定\n",
        "results = predict( filename, 10 )\n",
        "for result in results:\n",
        "  print(result)"
      ],
      "metadata": {
        "colab": {
          "base_uri": "https://localhost:8080/",
          "height": 474
        },
        "id": "y2F1NSdF5AJi",
        "outputId": "eb87b098-04c4-44b5-b914-084345a08d67"
      },
      "execution_count": 13,
      "outputs": [
        {
          "output_type": "display_data",
          "data": {
            "text/plain": [
              "<Figure size 1440x720 with 1 Axes>"
            ],
            "image/png": "[encoded data removed]"
          },
          "metadata": {
            "needs_background": "light"
          }
        },
        {
          "output_type": "stream",
          "name": "stdout",
          "text": [
            "('n03908714', 'pencil_sharpener', 0.14578651)\n",
            "('n03476684', 'hair_slide', 0.09858728)\n",
            "('n03929660', 'pick', 0.04979374)\n",
            "('n04116512', 'rubber_eraser', 0.044294268)\n",
            "('n03908618', 'pencil_box', 0.041678965)\n",
            "('n04228054', 'ski', 0.037755065)\n",
            "('n04019541', 'puck', 0.033177327)\n",
            "('n03041632', 'cleaver', 0.027443094)\n",
            "('n04447861', 'toilet_seat', 0.02723183)\n",
            "('n03291819', 'envelope', 0.026341991)\n"
          ]
        }
      ]
    },
    {
      "cell_type": "code",
      "source": [],
      "metadata": {
        "id": "DX03L1PE6_za"
      },
      "execution_count": 10,
      "outputs": []
    }
  ]
}