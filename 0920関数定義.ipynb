{
  "nbformat": 4,
  "nbformat_minor": 0,
  "metadata": {
    "colab": {
      "provenance": [],
      "collapsed_sections": [],
      "authorship_tag": "ABX9TyNtGSPDf04dKDZrM/8/LbGf",
      "include_colab_link": true
    },
    "kernelspec": {
      "name": "python3",
      "display_name": "Python 3"
    },
    "language_info": {
      "name": "python"
    }
  },
  "cells": [
    {
      "cell_type": "markdown",
      "metadata": {
        "id": "view-in-github",
        "colab_type": "text"
      },
      "source": [
        "<a href=\"https://colab.research.google.com/github/masatokg/DeepLearning2022Late/blob/main/0920%E9%96%A2%E6%95%B0%E5%AE%9A%E7%BE%A9.ipynb\" target=\"_parent\"><img src=\"https://colab.research.google.com/assets/colab-badge.svg\" alt=\"Open In Colab\"/></a>"
      ]
    },
    {
      "cell_type": "markdown",
      "source": [
        "# python3で関数を定義する\n",
        "\n",
        "## 関数定義"
      ],
      "metadata": {
        "id": "bBOFh7ENbQBl"
      }
    },
    {
      "cell_type": "code",
      "execution_count": 1,
      "metadata": {
        "colab": {
          "base_uri": "https://localhost:8080/"
        },
        "id": "UWOJE6WXbCRY",
        "outputId": "502ae763-1b3d-4884-fea8-28a993241458"
      },
      "outputs": [
        {
          "output_type": "stream",
          "name": "stdout",
          "text": [
            "test message!\n"
          ]
        }
      ],
      "source": [
        "# helloという関数を定義する\n",
        "# \"hello, kansuu!\" と画面表示する関数\n",
        "def hello(  ):\n",
        "  print( 'hello, kansuu!' ) # インデントされている\n",
        "  # インデントされている命令文などは関数の範囲の中\n",
        "print( 'test message!' ) # インデントされていない\n",
        "# インデントされていない命令文などは関数の範囲の外\n"
      ]
    },
    {
      "cell_type": "markdown",
      "source": [
        "## 関数を実行する"
      ],
      "metadata": {
        "id": "SlWBLfs2d4hK"
      }
    },
    {
      "cell_type": "code",
      "source": [
        "# 作成した関数hello() をコールする\n",
        "hello( )\n",
        "hello( )"
      ],
      "metadata": {
        "colab": {
          "base_uri": "https://localhost:8080/"
        },
        "id": "P1qC_HVCdSNj",
        "outputId": "4368cd27-67be-492d-f2c8-25e6d15fd41c"
      },
      "execution_count": 4,
      "outputs": [
        {
          "output_type": "stream",
          "name": "stdout",
          "text": [
            "hello, kansuu!\n",
            "hello, kansuu!\n"
          ]
        }
      ]
    },
    {
      "cell_type": "markdown",
      "source": [
        "## 引数つきの関数を定義する"
      ],
      "metadata": {
        "id": "QDeJeJhNemn7"
      }
    },
    {
      "cell_type": "code",
      "source": [
        "# 引数付きの関数 hello( ) を定義\n",
        "def hello( who ):\n",
        "  print( 'hello,' + who + '!' )\n",
        "# ここが関数の終わり\n",
        "\n",
        "hello( 'python!' )"
      ],
      "metadata": {
        "colab": {
          "base_uri": "https://localhost:8080/"
        },
        "id": "gvkfIEkReDMe",
        "outputId": "e5f06459-14c9-4be4-d855-3d2be44bcb02"
      },
      "execution_count": 5,
      "outputs": [
        {
          "output_type": "stream",
          "name": "stdout",
          "text": [
            "hello,python!!\n"
          ]
        }
      ]
    },
    {
      "cell_type": "markdown",
      "source": [
        "### 複数の引数つきの関数を定義"
      ],
      "metadata": {
        "id": "Int2SAIdgIdP"
      }
    },
    {
      "cell_type": "code",
      "source": [
        "def hello( who, aisatsu ):\n",
        "  print( 'hello,' + who + 'さん' + aisatsu )\n",
        "# 関数終わり\n",
        "\n",
        "hello( '田中', 'おはよう' )\n",
        "hello( '鈴木', 'こんにちは' )"
      ],
      "metadata": {
        "colab": {
          "base_uri": "https://localhost:8080/"
        },
        "id": "1gFKspWcfr4s",
        "outputId": "8e610234-d93b-430c-e973-c3e3b5cb8db7"
      },
      "execution_count": 8,
      "outputs": [
        {
          "output_type": "stream",
          "name": "stdout",
          "text": [
            "hello,田中さんおはよう\n",
            "hello,鈴木さんこんにちは\n"
          ]
        }
      ]
    },
    {
      "cell_type": "markdown",
      "source": [
        "## 関数の戻り値を定義する\n",
        "### 戻り値１つの関数を定義"
      ],
      "metadata": {
        "id": "x8qAb5rfhseE"
      }
    },
    {
      "cell_type": "code",
      "source": [
        "def helloBack( who, aisatsu ):\n",
        "  return who + 'さん、' + aisatsu\n",
        "# 関数終わり\n",
        "\n",
        "# 戻り値を変数xに代入して表示\n",
        "x = helloBack( '佐藤', 'こんばんは' )\n",
        "print( x )"
      ],
      "metadata": {
        "colab": {
          "base_uri": "https://localhost:8080/"
        },
        "id": "1RcSG4NXgwP9",
        "outputId": "3cc4ee74-2eef-47ea-aa5b-67313a0119c6"
      },
      "execution_count": 12,
      "outputs": [
        {
          "output_type": "stream",
          "name": "stdout",
          "text": [
            "佐藤さん、こんばんは\n"
          ]
        }
      ]
    },
    {
      "cell_type": "markdown",
      "source": [
        "## 複数の戻り値を返す関数を定義"
      ],
      "metadata": {
        "id": "fC4nk9pUjPOR"
      }
    },
    {
      "cell_type": "code",
      "source": [
        "def keisan( x, y ):\n",
        "  # x, y, x+y この３つの値を返す\n",
        "  return x, y, x+y\n",
        "# 関数終わり\n",
        "\n",
        "# 関数keisanを実行して戻り値を受け取る\n",
        "e, f, g = keisan( 3, 6 ) # 戻り値が 3, 6, 9 になる\n",
        "print( e, f, g )\n"
      ],
      "metadata": {
        "colab": {
          "base_uri": "https://localhost:8080/"
        },
        "id": "rAIE8sZPieb3",
        "outputId": "449b62b5-6fd0-42ee-ab9c-befe8d48a121"
      },
      "execution_count": 14,
      "outputs": [
        {
          "output_type": "stream",
          "name": "stdout",
          "text": [
            "3 6 9\n"
          ]
        }
      ]
    },
    {
      "cell_type": "markdown",
      "source": [
        "# その他の文法\n",
        "## 分岐( if文 )"
      ],
      "metadata": {
        "id": "lP3NGBeulK3f"
      }
    },
    {
      "cell_type": "code",
      "source": [
        "# if文の範囲もインデントで表す\n",
        "# numの値を閾値で分岐する\n",
        "def over( num, thres ):\n",
        "  if num > thres: # numが閾値より大きいとき\n",
        "    print( str(num) + 'は' + str(thres) + 'より大きい' )\n",
        "  else:\n",
        "    print( str(num) + 'は' + str(thres) + '以下です' )\n",
        " # 分岐の終わり\n",
        "# 関数終わり\n",
        "\n",
        "over(  333, 100 )\n",
        "over( -1, 10 )"
      ],
      "metadata": {
        "colab": {
          "base_uri": "https://localhost:8080/"
        },
        "id": "x1ZDoGn0j4Ab",
        "outputId": "fcb89e5a-f7b9-4bf2-a743-27a485d7ba52"
      },
      "execution_count": 17,
      "outputs": [
        {
          "output_type": "stream",
          "name": "stdout",
          "text": [
            "333は100より大きい\n",
            "-1は10以下です\n"
          ]
        }
      ]
    },
    {
      "cell_type": "code",
      "source": [
        "# リストに第2引数の値が含まれるか判定\n",
        "def include( list, keyword ):\n",
        "  uniq = set( list ) # リストを集合に変換\n",
        "  if keyword in uniq :\n",
        "    print( keyword + 'が含まれる' )\n",
        "  else:\n",
        "    print( keyword + 'が含まれない' )\n",
        "  # 分岐の終わり\n",
        "# 関数の終わり\n",
        "\n",
        "# リストを引き渡して作成した関数を実行する\n",
        "list_1 = ['アップル', 'ペン', 'ペン', 'パイナップル'] # 第一引数に使うリスト\n",
        "include( list_1, 'パイナップル' )\n",
        "include( list_1, 'バナナ' )"
      ],
      "metadata": {
        "colab": {
          "base_uri": "https://localhost:8080/"
        },
        "id": "mDydwTP0nnZ8",
        "outputId": "ed88d717-3fb8-4c61-b082-01433787ffd9"
      },
      "execution_count": 20,
      "outputs": [
        {
          "output_type": "stream",
          "name": "stdout",
          "text": [
            "パイナップルが含まれる\n",
            "バナナが含まれない\n"
          ]
        }
      ]
    },
    {
      "cell_type": "markdown",
      "source": [
        "## 繰り返し文（while文）"
      ],
      "metadata": {
        "id": "eBSPBMnQwQLK"
      }
    },
    {
      "cell_type": "code",
      "source": [
        "# while文は条件がtrueの間くりかえす\n",
        "def count( max ):\n",
        "  num = 0\n",
        "  while num < max: # numがmax未満の間、くりかえす\n",
        "    print( num )\n",
        "    num += 1\n",
        "  # whike繰り返し終わり\n",
        "# 関数終わり\n",
        "\n",
        "count( 5 ) # 作成した関数に引数を引き渡して実行"
      ],
      "metadata": {
        "colab": {
          "base_uri": "https://localhost:8080/"
        },
        "id": "3c4710P0uo1C",
        "outputId": "2e96b8a9-0d2d-440f-82a6-16f79b102db5"
      },
      "execution_count": 22,
      "outputs": [
        {
          "output_type": "stream",
          "name": "stdout",
          "text": [
            "0\n",
            "1\n",
            "2\n",
            "3\n",
            "4\n"
          ]
        }
      ]
    },
    {
      "cell_type": "markdown",
      "source": [
        "## 繰り返し文(for文)\n",
        "\n",
        "### 変数βの集合から１つずつ取り出して変数αとして使う\n",
        "\n",
        "for 変数α in range( 変数β ):"
      ],
      "metadata": {
        "id": "LkWx-DmCycPg"
      }
    },
    {
      "cell_type": "code",
      "source": [
        "# 集合（コレクション）の中から取り出して繰り返し\n",
        "def every( array ):\n",
        "  for x in array: # arrayの中から１つずつデータを取り出しxに代入\n",
        "    print( x )\n",
        "  # for文終わり\n",
        "# 関数終わり\n",
        "\n",
        "list = [1, 2, 3] \n",
        "every(list)\n",
        "tuple = ( 4, 5, 6 )\n",
        "every( tuple )\n",
        "# 辞書型もコレクション\n",
        "dict = { 'a':7, 'b':8, 'c':9 }\n",
        "every( dict ) # キーワードの一覧表示\n",
        "values = dict.values() # 値のリストを取得\n",
        "every(values) # 値の一覧を表示\n",
        "# 文字列も文字配列としてコレクション扱いができる\n",
        "every( 'dog' ) # d o g として表示"
      ],
      "metadata": {
        "colab": {
          "base_uri": "https://localhost:8080/"
        },
        "id": "Pql-zCymxhXz",
        "outputId": "80d51878-6db9-4dd1-f177-8e9b78bb0ee8"
      },
      "execution_count": 30,
      "outputs": [
        {
          "output_type": "stream",
          "name": "stdout",
          "text": [
            "1\n",
            "2\n",
            "3\n",
            "4\n",
            "5\n",
            "6\n",
            "a\n",
            "b\n",
            "c\n",
            "7\n",
            "8\n",
            "9\n",
            "d\n",
            "o\n",
            "g\n"
          ]
        }
      ]
    },
    {
      "cell_type": "code",
      "source": [
        "# カウンター変数で繰り返す\n",
        "# for n in range( 数値 ) 0～数値未満繰り返す\n",
        "\n",
        "def count( num ):\n",
        "  for i in range( num ) : # 0～num 繰り返す\n",
        "    print( i )\n",
        "  # 繰り返しの終わり\n",
        "# 関数の終わり\n",
        "\n",
        "count( 3 ) # 3 = 0, 1, 2 で繰り返す\n"
      ],
      "metadata": {
        "colab": {
          "base_uri": "https://localhost:8080/"
        },
        "id": "XNRALtrc0Lhe",
        "outputId": "0daed5f6-a6f4-4b17-830f-670d00860e24"
      },
      "execution_count": 31,
      "outputs": [
        {
          "output_type": "stream",
          "name": "stdout",
          "text": [
            "0\n",
            "1\n",
            "2\n"
          ]
        }
      ]
    },
    {
      "cell_type": "markdown",
      "source": [
        "##  繰り返しを中断したいときは、break命令"
      ],
      "metadata": {
        "id": "CbAJrUMI4fL0"
      }
    },
    {
      "cell_type": "code",
      "source": [
        "def stop ( array ):\n",
        "  for i in array:\n",
        "    if i >= 4:\n",
        "      break # ループを中断\n",
        "    print(i)\n",
        "    # 分岐終わり\n",
        "  # ループ終わり\n",
        "# 関数終わり\n",
        "\n",
        "list = [ 1, 2, 3, 4, 5, 1, 2, 3, 4, 5 ]\n",
        "stop( list )"
      ],
      "metadata": {
        "colab": {
          "base_uri": "https://localhost:8080/"
        },
        "id": "Wsvsxxps37Z5",
        "outputId": "a5dc3705-0ffb-4241-a37d-04067e814de2"
      },
      "execution_count": 33,
      "outputs": [
        {
          "output_type": "stream",
          "name": "stdout",
          "text": [
            "1\n",
            "2\n",
            "3\n"
          ]
        }
      ]
    },
    {
      "cell_type": "markdown",
      "source": [
        "## 繰り返しをスキップしたいときは、continue命令"
      ],
      "metadata": {
        "id": "14tC0aTE6SuY"
      }
    },
    {
      "cell_type": "code",
      "source": [
        "def skip( array ):\n",
        "  for i in array:\n",
        "    if i >= 4 :\n",
        "      continue  # 以降のループ内処理をスキップする\n",
        "    # 分岐終わり\n",
        "    print(i)\n",
        "  # 繰り返し終わり\n",
        "# 関数終わり\n",
        "list = [ 1, 2, 3, 4, 5, 1, 2, 3, 4, 5 ]\n",
        "skip( list )\n"
      ],
      "metadata": {
        "colab": {
          "base_uri": "https://localhost:8080/"
        },
        "id": "R6zzVrKl5eRF",
        "outputId": "19396399-cbab-4515-ad26-665d75502251"
      },
      "execution_count": 35,
      "outputs": [
        {
          "output_type": "stream",
          "name": "stdout",
          "text": [
            "1\n",
            "2\n",
            "3\n",
            "1\n",
            "2\n",
            "3\n"
          ]
        }
      ]
    },
    {
      "cell_type": "code",
      "source": [],
      "metadata": {
        "id": "Xr_sNziR7QFA"
      },
      "execution_count": null,
      "outputs": []
    }
  ]
}