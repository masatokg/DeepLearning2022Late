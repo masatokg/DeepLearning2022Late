{
  "nbformat": 4,
  "nbformat_minor": 0,
  "metadata": {
    "colab": {
      "provenance": [],
      "authorship_tag": "ABX9TyOUmFhXihMMrsOJlKTFw80p",
      "include_colab_link": true
    },
    "kernelspec": {
      "name": "python3",
      "display_name": "Python 3"
    },
    "language_info": {
      "name": "python"
    }
  },
  "cells": [
    {
      "cell_type": "markdown",
      "metadata": {
        "id": "view-in-github",
        "colab_type": "text"
      },
      "source": [
        "<a href=\"https://colab.research.google.com/github/masatokg/DeepLearning2022Late/blob/main/Matplotlib0927.ipynb\" target=\"_parent\"><img src=\"https://colab.research.google.com/assets/colab-badge.svg\" alt=\"Open In Colab\"/></a>"
      ]
    },
    {
      "cell_type": "markdown",
      "source": [
        "# matplotlib グラフ表示のライブラリ"
      ],
      "metadata": {
        "id": "YfAaC2cbpSoE"
      }
    },
    {
      "cell_type": "markdown",
      "source": [
        "## ライブラリの読み込み"
      ],
      "metadata": {
        "id": "qbPG6uGCpuLF"
      }
    },
    {
      "cell_type": "code",
      "execution_count": 11,
      "metadata": {
        "id": "1XsjtQLXodhx"
      },
      "outputs": [],
      "source": [
        "# 読み込み命令\n",
        "%matplotlib inline\n",
        "import matplotlib.pyplot as plt\n",
        "import numpy as np"
      ]
    },
    {
      "cell_type": "markdown",
      "source": [
        "## グラフ出力するデータの準備"
      ],
      "metadata": {
        "id": "DmtrvYv1qjwu"
      }
    },
    {
      "cell_type": "code",
      "source": [
        "t = np.arange( 0.0, 2.0, 0.01 ) # 0.0から2.0まで0.01刻みでデータを生成\n",
        "# SINカーブを描くために、元データのsin値を取得して変数sに設定\n",
        "s = 1 + np.sin( 2 * np.pi * t )\n",
        "\n",
        "# グラフの描画\n",
        "fig, ax = plt.subplots()\n",
        "ax.plot( t, s )\n",
        "\n",
        "# グラフaxにラベルを設定する\n",
        "ax.set( xlabel='time(s)', ylabel='voltage(mV)',\n",
        "      title='About as simple as it gets, folks' )\n",
        "# グラフaxにグリッドをつける\n",
        "ax.grid( )\n",
        "\n",
        "# pyplotで表示\n",
        "# ax.plot( t,s )\n",
        "plt.show( )"
      ],
      "metadata": {
        "colab": {
          "base_uri": "https://localhost:8080/",
          "height": 295
        },
        "id": "TVoyrGGMpa8Q",
        "outputId": "0c741c8c-bc30-40be-e221-372574fa471d"
      },
      "execution_count": 16,
      "outputs": [
        {
          "output_type": "display_data",
          "data": {
            "text/plain": [
              "<Figure size 432x288 with 1 Axes>"
            ],
            "image/png": "[encoded data removed]"
          },
          "metadata": {
            "needs_background": "light"
          }
        }
      ]
    },
    {
      "cell_type": "markdown",
      "source": [
        "## グラフのラベルとグリッドを描画させる"
      ],
      "metadata": {
        "id": "AI_Djkcox6En"
      }
    },
    {
      "cell_type": "code",
      "source": [
        "# # グラフaxにラベルを設定する\n",
        "# ax.set( xlabel='time(s)', ylabel='voltage(mV)',\n",
        "#       title='About as simple as it gets, folks' )\n",
        "# # グラフaxにグリッドをつける\n",
        "# ax.grid( )"
      ],
      "metadata": {
        "id": "mLQraLCIq_5p"
      },
      "execution_count": 13,
      "outputs": []
    },
    {
      "cell_type": "markdown",
      "source": [
        "### できあがったグラフをpyplotで表示する"
      ],
      "metadata": {
        "id": "PMKJIEx7y-Sc"
      }
    },
    {
      "cell_type": "code",
      "source": [
        "# # pyplotで表示\n",
        "# ax.plot( t,s )\n",
        "# plt.show( )"
      ],
      "metadata": {
        "id": "d8M7EKcny4_v"
      },
      "execution_count": 14,
      "outputs": []
    },
    {
      "cell_type": "code",
      "source": [],
      "metadata": {
        "id": "aXDXtMv-zJx7"
      },
      "execution_count": 14,
      "outputs": []
    }
  ]
}