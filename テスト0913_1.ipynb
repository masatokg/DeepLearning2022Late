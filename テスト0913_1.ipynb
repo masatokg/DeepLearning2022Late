{
  "nbformat": 4,
  "nbformat_minor": 0,
  "metadata": {
    "colab": {
      "provenance": [],
      "authorship_tag": "ABX9TyMv0DcKErkIfQTvls0xvVe/",
      "include_colab_link": true
    },
    "kernelspec": {
      "name": "python3",
      "display_name": "Python 3"
    },
    "language_info": {
      "name": "python"
    }
  },
  "cells": [
    {
      "cell_type": "markdown",
      "metadata": {
        "id": "view-in-github",
        "colab_type": "text"
      },
      "source": [
        "<a href=\"https://colab.research.google.com/github/masatokg/DeepLearning2022Late/blob/main/%E3%83%86%E3%82%B9%E3%83%880913_1.ipynb\" target=\"_parent\"><img src=\"https://colab.research.google.com/assets/colab-badge.svg\" alt=\"Open In Colab\"/></a>"
      ]
    },
    {
      "cell_type": "markdown",
      "source": [
        "# リスト型とタプル型\n",
        "## リストとタプル"
      ],
      "metadata": {
        "id": "uo9UIEasUokR"
      }
    },
    {
      "cell_type": "code",
      "execution_count": 1,
      "metadata": {
        "colab": {
          "base_uri": "https://localhost:8080/"
        },
        "id": "yxon0KPoUN2n",
        "outputId": "6dbc436a-a3b5-4708-be20-d64302ef330b"
      },
      "outputs": [
        {
          "output_type": "stream",
          "name": "stdout",
          "text": [
            "['アップル', 'ペン', 'ペン', 'パイナップル']\n",
            "ペンペン\n"
          ]
        }
      ],
      "source": [
        "# リスト\n",
        "list = [ 'アップル', 'ペン', 'ペン', 'パイナップル' ]\n",
        "print( list )\n",
        "print( list[1] + list[2] )"
      ]
    },
    {
      "cell_type": "code",
      "source": [
        "# タプル\n",
        "tuple = ( 'アップル', 'ペン', 'ペン', 'パイナップル' )\n",
        "print(tuple)\n",
        "print( tuple[1] + tuple[2] )"
      ],
      "metadata": {
        "colab": {
          "base_uri": "https://localhost:8080/"
        },
        "id": "VNi24KzgWU7O",
        "outputId": "3718d95d-3564-4602-cb01-691b034c73a9"
      },
      "execution_count": 2,
      "outputs": [
        {
          "output_type": "stream",
          "name": "stdout",
          "text": [
            "('アップル', 'ペン', 'ペン', 'パイナップル')\n",
            "ペンペン\n"
          ]
        }
      ]
    },
    {
      "cell_type": "markdown",
      "source": [
        "### 構成を変更できるのはリスト\n",
        "### 構成を変更できない（固定）はタプル\n",
        "\n"
      ],
      "metadata": {
        "id": "AX68Tc1qXHJi"
      }
    },
    {
      "cell_type": "code",
      "source": [
        "# リストの構成変更\n",
        "print(list)\n",
        "list.append(100) # 文字列データのリストにあえて数値を追加\n",
        "print(list)\n",
        "del list[2] # リストの３番目を削除\n",
        "print(list)\n",
        "list[3] = 'ペン' # 数値100を'ペン'に更新\n",
        "print(list)\n",
        "list.insert( 2, 'ペン' ) # 2番目の位置に'ペン'を挿入\n",
        "print(list)"
      ],
      "metadata": {
        "colab": {
          "base_uri": "https://localhost:8080/"
        },
        "id": "gUfwE4EtWqRO",
        "outputId": "3ac4772b-9bda-45fc-bd60-36a532d21c33"
      },
      "execution_count": 3,
      "outputs": [
        {
          "output_type": "stream",
          "name": "stdout",
          "text": [
            "['アップル', 'ペン', 'ペン', 'パイナップル']\n",
            "['アップル', 'ペン', 'ペン', 'パイナップル', 100]\n",
            "['アップル', 'ペン', 'パイナップル', 100]\n",
            "['アップル', 'ペン', 'パイナップル', 'ペン']\n",
            "['アップル', 'ペン', 'ペン', 'パイナップル', 'ペン']\n"
          ]
        }
      ]
    },
    {
      "cell_type": "markdown",
      "source": [
        "### リストやタプルの長さの取得"
      ],
      "metadata": {
        "id": "9x40Vz5bbJpC"
      }
    },
    {
      "cell_type": "code",
      "source": [
        "print(list)\n",
        "print( len(list) ) # len( ) で長さを取得する"
      ],
      "metadata": {
        "colab": {
          "base_uri": "https://localhost:8080/"
        },
        "id": "CIlasgUcXluY",
        "outputId": "161dd1f9-be17-48f6-9982-305df8baf4c3"
      },
      "execution_count": 4,
      "outputs": [
        {
          "output_type": "stream",
          "name": "stdout",
          "text": [
            "['アップル', 'ペン', 'ペン', 'パイナップル', 'ペン']\n",
            "5\n"
          ]
        }
      ]
    },
    {
      "cell_type": "markdown",
      "source": [
        "## スライス\n",
        "### データを抽出する（データを一部分とりだす）"
      ],
      "metadata": {
        "id": "zb1ehCBdb4cI"
      }
    },
    {
      "cell_type": "code",
      "source": [
        "print(list)\n",
        "print(list[1]) # 何番目の要素の指定の仕方と同じ考えかた\n",
        "print( list[1:3] ) # 1番目から3番目までの範囲を指定して抽出 = スライス\n",
        "print( list[1:] ) # 1番目から最後まで抽出（スライス）"
      ],
      "metadata": {
        "colab": {
          "base_uri": "https://localhost:8080/"
        },
        "id": "cQ1u9a13bYPH",
        "outputId": "80ad0486-e4cb-44b4-e7b4-2520d43b1d3e"
      },
      "execution_count": 5,
      "outputs": [
        {
          "output_type": "stream",
          "name": "stdout",
          "text": [
            "['アップル', 'ペン', 'ペン', 'パイナップル', 'ペン']\n",
            "ペン\n",
            "['ペン', 'ペン']\n",
            "['ペン', 'ペン', 'パイナップル', 'ペン']\n"
          ]
        }
      ]
    },
    {
      "cell_type": "markdown",
      "source": [
        "# SET型（集合型）\n",
        "集合型SETは、順番を持たない。重複したデータも持たない"
      ],
      "metadata": {
        "id": "P06Z-PlHennQ"
      }
    },
    {
      "cell_type": "code",
      "source": [
        "# uniqという名前のset型変数を作る\n",
        "uniq = set( [ 'アップル', 'ペン', 'ペン', 'パイナップル' ] )\n",
        "print(uniq) # リストの時点では'ペン'が重複できていたが、set型になって重複が消える"
      ],
      "metadata": {
        "colab": {
          "base_uri": "https://localhost:8080/"
        },
        "id": "s1HTMWeHcUiW",
        "outputId": "5c72efa7-a2d5-4a1d-85c1-130c405d541b"
      },
      "execution_count": 6,
      "outputs": [
        {
          "output_type": "stream",
          "name": "stdout",
          "text": [
            "{'ペン', 'アップル', 'パイナップル'}\n"
          ]
        }
      ]
    },
    {
      "cell_type": "markdown",
      "source": [
        "## 集合型の追加変更削除"
      ],
      "metadata": {
        "id": "G_02VYtpg2iK"
      }
    },
    {
      "cell_type": "code",
      "source": [
        "print(uniq)\n",
        "uniq.add( 'バナナ' ) # 追加\n",
        "uniq.remove('ペン') # 削除\n",
        "print(uniq)"
      ],
      "metadata": {
        "colab": {
          "base_uri": "https://localhost:8080/"
        },
        "id": "v5X828YygQKL",
        "outputId": "f773e271-22bb-4a8b-f85e-9fd14b6a35f4"
      },
      "execution_count": 7,
      "outputs": [
        {
          "output_type": "stream",
          "name": "stdout",
          "text": [
            "{'ペン', 'アップル', 'パイナップル'}\n",
            "{'アップル', 'パイナップル', 'バナナ'}\n"
          ]
        }
      ]
    },
    {
      "cell_type": "markdown",
      "source": [
        "#### 集合演算\n",
        "包括、積、和、差分"
      ],
      "metadata": {
        "id": "DW32wcLpiCFI"
      }
    },
    {
      "cell_type": "code",
      "source": [
        "# uniqの値を再定義\n",
        "uniq = set( ['アップル', 'ペン', 'ペン', 'パイナップル'] )\n",
        "a = set( ['アップル', 'ペン'] )\n",
        "b = set( ['ペン', 'パイナップル'] )\n",
        "print(uniq)\n",
        "print(a)\n",
        "print(b)\n",
        "# 集合　a　は集合 uniq の subset(部分集合)である？ = 包括関係\n",
        "print( a.issubset( uniq ) ) \n",
        "# データ 'ペン'は 集合 a の中にある？\n",
        "'ペン' in a"
      ],
      "metadata": {
        "colab": {
          "base_uri": "https://localhost:8080/"
        },
        "id": "9W9n8hyYhBU6",
        "outputId": "81769974-179d-4e88-e79f-dcef4382399d"
      },
      "execution_count": 13,
      "outputs": [
        {
          "output_type": "stream",
          "name": "stdout",
          "text": [
            "{'ペン', 'アップル', 'パイナップル'}\n",
            "{'ペン', 'アップル'}\n",
            "{'ペン', 'パイナップル'}\n",
            "True\n"
          ]
        },
        {
          "output_type": "execute_result",
          "data": {
            "text/plain": [
              "True"
            ]
          },
          "metadata": {},
          "execution_count": 13
        }
      ]
    },
    {
      "cell_type": "code",
      "source": [
        "# ある集合と別の集合の共通部分の要素（intersection）\n",
        "# 集合 a と 集合 b の 共通集合\n",
        "print(a)\n",
        "print(b)\n",
        "print( a.intersection( b ) ) # 集合aのデータで集合bに共通のもの　：積\n",
        "# 集合 a と 集合 b の結合 : 和集合( setなので重複は削除される )\n",
        "print( a.union( b ) )  # 集合aと集合bの集まり\n",
        "# 集合 a と集合 b の差集合　(aのみに含まれる集合)\n",
        "a.difference( b ) # aからbを取り除いた残り（差分：difference） "
      ],
      "metadata": {
        "colab": {
          "base_uri": "https://localhost:8080/"
        },
        "id": "-iSEymm6jH_2",
        "outputId": "750aceeb-a8b8-47b9-92e7-1966cbdf6a9e"
      },
      "execution_count": 17,
      "outputs": [
        {
          "output_type": "stream",
          "name": "stdout",
          "text": [
            "{'ペン', 'アップル'}\n",
            "{'ペン', 'パイナップル'}\n",
            "{'ペン'}\n",
            "{'ペン', 'アップル', 'パイナップル'}\n"
          ]
        },
        {
          "output_type": "execute_result",
          "data": {
            "text/plain": [
              "{'アップル'}"
            ]
          },
          "metadata": {},
          "execution_count": 17
        }
      ]
    },
    {
      "cell_type": "code",
      "source": [],
      "metadata": {
        "id": "7Qf4qwqXqXgC"
      },
      "execution_count": null,
      "outputs": []
    }
  ]
}