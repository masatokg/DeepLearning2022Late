{
  "nbformat": 4,
  "nbformat_minor": 0,
  "metadata": {
    "colab": {
      "provenance": [],
      "collapsed_sections": [],
      "authorship_tag": "ABX9TyPDYG0EwSOhN5dbhWmNplPd",
      "include_colab_link": true
    },
    "kernelspec": {
      "name": "python3",
      "display_name": "Python 3"
    },
    "language_info": {
      "name": "python"
    }
  },
  "cells": [
    {
      "cell_type": "markdown",
      "metadata": {
        "id": "view-in-github",
        "colab_type": "text"
      },
      "source": [
        "<a href=\"https://colab.research.google.com/github/masatokg/DeepLearning2022Late/blob/main/CNN%2BPlots_onelayer2022.ipynb\" target=\"_parent\"><img src=\"https://colab.research.google.com/assets/colab-badge.svg\" alt=\"Open In Colab\"/></a>"
      ]
    },
    {
      "cell_type": "code",
      "execution_count": null,
      "metadata": {
        "id": "e80bJMoUG-57"
      },
      "outputs": [],
      "source": []
    },
    {
      "cell_type": "markdown",
      "source": [
        "# CNNの練習（Keras Conv2D）\n",
        "convolutional Neural Netwok\n",
        "畳み込み層が１つの例"
      ],
      "metadata": {
        "id": "MyWQaVASHfwj"
      }
    },
    {
      "cell_type": "markdown",
      "source": [
        "## ライブラリのimport"
      ],
      "metadata": {
        "id": "yFPhdQQNICHf"
      }
    },
    {
      "cell_type": "code",
      "source": [
        "# CNN node 1layer\n",
        "# Conv2Dを使ったCNNの例\n",
        "from keras.models import Sequential, Model\n",
        "from keras.layers import Conv2D # 畳み込み層のクラスモジュール\n",
        "from keras.utils import np_utils"
      ],
      "metadata": {
        "id": "iXSz0kxtIBEK"
      },
      "execution_count": 1,
      "outputs": []
    },
    {
      "cell_type": "markdown",
      "source": [
        "## SVG画像の表示用のライブラリのimport"
      ],
      "metadata": {
        "id": "n2RnNMGuJgab"
      }
    },
    {
      "cell_type": "code",
      "source": [
        "from IPython.display import SVG\n",
        "from keras.utils.vis_utils import model_to_dot"
      ],
      "metadata": {
        "id": "l2h73MwPJXCS"
      },
      "execution_count": 2,
      "outputs": []
    },
    {
      "cell_type": "markdown",
      "source": [
        "### CNN（畳み込みニューラルネットワーク）のモデルをConv2Dライブラリを使って作成"
      ],
      "metadata": {
        "id": "jMF3hCDzKDzx"
      }
    },
    {
      "cell_type": "code",
      "source": [],
      "metadata": {
        "id": "F_33D_U6O6xQ"
      },
      "execution_count": null,
      "outputs": []
    },
    {
      "cell_type": "code",
      "source": [
        "model = Sequential( ) #インスタンスを生成\n",
        "# CNN畳み込み層を１層追加するする\n",
        "model.add( Conv2D( filters=3, # フィルターのニューロンを３パターン\n",
        "                  kernel_size=(3,3), # 受容野の大きさ（幅３、縦３）\n",
        "                  input_shape=(6,6,1),\n",
        "                  name='Conv2D_1'\n",
        "                  ) )"
      ],
      "metadata": {
        "id": "UqJZ7wZHJ2jR"
      },
      "execution_count": 4,
      "outputs": []
    },
    {
      "cell_type": "markdown",
      "source": [
        "### SVG画像で作成したモデルの構成を表示\n",
        "CNN（畳み込み）で特徴を抜き出すだけのモデルの状態です"
      ],
      "metadata": {
        "id": "vmuYRm-yMrxY"
      }
    },
    {
      "cell_type": "code",
      "source": [
        "SVG( model_to_dot( model, show_shapes=True ).create( prog='dot', format='svg' ) )\n"
      ],
      "metadata": {
        "colab": {
          "base_uri": "https://localhost:8080/",
          "height": 267
        },
        "id": "6xaFZlxJMNrY",
        "outputId": "a3aac11a-c993-4795-9bb6-f5c5615af43a"
      },
      "execution_count": 10,
      "outputs": [
        {
          "output_type": "execute_result",
          "data": {
            "text/plain": [
              "<IPython.core.display.SVG object>"
            ],
            "image/svg+xml": "<svg height=\"184pt\" viewBox=\"0.00 0.00 296.00 138.00\" width=\"395pt\" xmlns=\"http://www.w3.org/2000/svg\" xmlns:xlink=\"http://www.w3.org/1999/xlink\">\n<g class=\"graph\" id=\"graph0\" transform=\"scale(1.3333 1.3333) rotate(0) translate(4 134)\">\n<title>G</title>\n<polygon fill=\"#ffffff\" points=\"-4,4 -4,-134 292,-134 292,4 -4,4\" stroke=\"transparent\"/>\n<!-- 140200570528336 -->\n<g class=\"node\" id=\"node1\">\n<title>140200570528336</title>\n<polygon fill=\"none\" points=\"0,-83.5 0,-129.5 288,-129.5 288,-83.5 0,-83.5\" stroke=\"#000000\"/>\n<text fill=\"#000000\" font-family=\"Times,serif\" font-size=\"14.00\" text-anchor=\"middle\" x=\"59.5\" y=\"-114.3\">Conv2D_1_input</text>\n<polyline fill=\"none\" points=\"0,-106.5 119,-106.5 \" stroke=\"#000000\"/>\n<text fill=\"#000000\" font-family=\"Times,serif\" font-size=\"14.00\" text-anchor=\"middle\" x=\"59.5\" y=\"-91.3\">InputLayer</text>\n<polyline fill=\"none\" points=\"119,-83.5 119,-129.5 \" stroke=\"#000000\"/>\n<text fill=\"#000000\" font-family=\"Times,serif\" font-size=\"14.00\" text-anchor=\"middle\" x=\"148\" y=\"-114.3\">input:</text>\n<polyline fill=\"none\" points=\"119,-106.5 177,-106.5 \" stroke=\"#000000\"/>\n<text fill=\"#000000\" font-family=\"Times,serif\" font-size=\"14.00\" text-anchor=\"middle\" x=\"148\" y=\"-91.3\">output:</text>\n<polyline fill=\"none\" points=\"177,-83.5 177,-129.5 \" stroke=\"#000000\"/>\n<text fill=\"#000000\" font-family=\"Times,serif\" font-size=\"14.00\" text-anchor=\"middle\" x=\"232.5\" y=\"-114.3\">[(None, 6, 6, 1)]</text>\n<polyline fill=\"none\" points=\"177,-106.5 288,-106.5 \" stroke=\"#000000\"/>\n<text fill=\"#000000\" font-family=\"Times,serif\" font-size=\"14.00\" text-anchor=\"middle\" x=\"232.5\" y=\"-91.3\">[(None, 6, 6, 1)]</text>\n</g>\n<!-- 140200570897872 -->\n<g class=\"node\" id=\"node2\">\n<title>140200570897872</title>\n<polygon fill=\"none\" points=\"23,-.5 23,-46.5 265,-46.5 265,-.5 23,-.5\" stroke=\"#000000\"/>\n<text fill=\"#000000\" font-family=\"Times,serif\" font-size=\"14.00\" text-anchor=\"middle\" x=\"64\" y=\"-31.3\">Conv2D_1</text>\n<polyline fill=\"none\" points=\"23,-23.5 105,-23.5 \" stroke=\"#000000\"/>\n<text fill=\"#000000\" font-family=\"Times,serif\" font-size=\"14.00\" text-anchor=\"middle\" x=\"64\" y=\"-8.3\">Conv2D</text>\n<polyline fill=\"none\" points=\"105,-.5 105,-46.5 \" stroke=\"#000000\"/>\n<text fill=\"#000000\" font-family=\"Times,serif\" font-size=\"14.00\" text-anchor=\"middle\" x=\"134\" y=\"-31.3\">input:</text>\n<polyline fill=\"none\" points=\"105,-23.5 163,-23.5 \" stroke=\"#000000\"/>\n<text fill=\"#000000\" font-family=\"Times,serif\" font-size=\"14.00\" text-anchor=\"middle\" x=\"134\" y=\"-8.3\">output:</text>\n<polyline fill=\"none\" points=\"163,-.5 163,-46.5 \" stroke=\"#000000\"/>\n<text fill=\"#000000\" font-family=\"Times,serif\" font-size=\"14.00\" text-anchor=\"middle\" x=\"214\" y=\"-31.3\">(None, 6, 6, 1)</text>\n<polyline fill=\"none\" points=\"163,-23.5 265,-23.5 \" stroke=\"#000000\"/>\n<text fill=\"#000000\" font-family=\"Times,serif\" font-size=\"14.00\" text-anchor=\"middle\" x=\"214\" y=\"-8.3\">(None, 4, 4, 3)</text>\n</g>\n<!-- 140200570528336&#45;&gt;140200570897872 -->\n<g class=\"edge\" id=\"edge1\">\n<title>140200570528336-&gt;140200570897872</title>\n<path d=\"M144,-83.3799C144,-75.1745 144,-65.7679 144,-56.8786\" fill=\"none\" stroke=\"#000000\"/>\n<polygon fill=\"#000000\" points=\"147.5001,-56.784 144,-46.784 140.5001,-56.784 147.5001,-56.784\" stroke=\"#000000\"/>\n</g>\n</g>\n</svg>"
          },
          "metadata": {},
          "execution_count": 10
        }
      ]
    },
    {
      "cell_type": "code",
      "source": [],
      "metadata": {
        "id": "3HwKG9j7NeRg"
      },
      "execution_count": null,
      "outputs": []
    }
  ]
}